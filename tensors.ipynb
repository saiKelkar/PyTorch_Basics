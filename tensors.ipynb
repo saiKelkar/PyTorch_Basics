{
 "cells": [
  {
   "cell_type": "code",
   "execution_count": 2,
   "id": "a54bccca-1e03-4df7-9ea4-ac409afcc256",
   "metadata": {},
   "outputs": [
    {
     "name": "stdout",
     "output_type": "stream",
     "text": [
      "2.6.0+cu126\n",
      "True\n"
     ]
    }
   ],
   "source": [
    "import torch\n",
    "print(torch.__version__)  # Check if PyTorch is installed\n",
    "print(torch.cuda.is_available())  # Check if GPU is detected"
   ]
  },
  {
   "cell_type": "code",
   "execution_count": 8,
   "id": "4aa7af8a-c616-43b3-88a0-4f74b07e1d4c",
   "metadata": {},
   "outputs": [
    {
     "name": "stdout",
     "output_type": "stream",
     "text": [
      "tensor([[1., 2., 3.],\n",
      "        [4., 5., 6.]], device='cuda:0', requires_grad=True)\n"
     ]
    }
   ],
   "source": [
    "#Initializing Tensor\n",
    "device = \"cuda\" if torch.cuda.is_available() else \"cpu\"\n",
    "\n",
    "my_tensor = torch.tensor([[1, 2, 3], [4, 5, 6]], dtype = torch.float32, device = device, requires_grad = True)\n",
    "print(my_tensor)"
   ]
  },
  {
   "cell_type": "code",
   "execution_count": 10,
   "id": "f61180f5-a893-422b-98f6-1f13b3bae5ee",
   "metadata": {},
   "outputs": [
    {
     "name": "stdout",
     "output_type": "stream",
     "text": [
      "torch.float32\n",
      "cuda:0\n",
      "torch.Size([2, 3])\n",
      "True\n"
     ]
    }
   ],
   "source": [
    "print(my_tensor.dtype)\n",
    "print(my_tensor.device)\n",
    "print(my_tensor.shape)\n",
    "print(my_tensor.requires_grad)"
   ]
  },
  {
   "cell_type": "code",
   "execution_count": 9,
   "id": "86a19610-2e6f-4a61-994d-ec60a4da6975",
   "metadata": {},
   "outputs": [
    {
     "name": "stdout",
     "output_type": "stream",
     "text": [
      "tensor([[-4.5868e-08,  2.0137e-42,  0.0000e+00],\n",
      "        [ 0.0000e+00,  0.0000e+00,  0.0000e+00],\n",
      "        [ 0.0000e+00,  0.0000e+00,  0.0000e+00]])\n",
      "tensor([[0., 0., 0.],\n",
      "        [0., 0., 0.],\n",
      "        [0., 0., 0.]])\n",
      "tensor([[0.5494, 0.3807, 0.8434],\n",
      "        [0.4763, 0.9362, 0.1519],\n",
      "        [0.0748, 0.4726, 0.6362]])\n",
      "tensor([[1., 0., 0., 0., 0.],\n",
      "        [0., 1., 0., 0., 0.],\n",
      "        [0., 0., 1., 0., 0.],\n",
      "        [0., 0., 0., 1., 0.],\n",
      "        [0., 0., 0., 0., 1.]])\n",
      "tensor([0, 1, 2, 3, 4])\n"
     ]
    }
   ],
   "source": [
    "#Other common initialization methods\n",
    "x = torch.empty(size = (3, 3))\n",
    "print(x)\n",
    "y = torch.zeros((3, 3))\n",
    "print(y)\n",
    "z = torch.rand((3, 3))\n",
    "print(z)\n",
    "w = torch.eye(5, 5)\n",
    "print(w)\n",
    "v = torch.arange(start = 0, end = 5, step = 1)\n",
    "print(v)"
   ]
  },
  {
   "cell_type": "code",
   "execution_count": 21,
   "id": "ebe7bef7-c7b8-43e6-ae80-1a76e7d1eb1c",
   "metadata": {},
   "outputs": [
    {
     "name": "stdout",
     "output_type": "stream",
     "text": [
      "tensor([False,  True,  True,  True])\n",
      "tensor([0, 1, 2, 3], dtype=torch.int16)\n",
      "tensor([0, 1, 2, 3])\n",
      "tensor([0., 1., 2., 3.], dtype=torch.float16)\n",
      "tensor([0., 1., 2., 3.])\n",
      "tensor([0., 1., 2., 3.], dtype=torch.float64)\n"
     ]
    }
   ],
   "source": [
    "#Converting between tensor types\n",
    "tensor = torch.arange(4)\n",
    "print(tensor.bool())\n",
    "print(tensor.short())\n",
    "print(tensor.long())\n",
    "print(tensor.half())\n",
    "print(tensor.float())\n",
    "print(tensor.double())"
   ]
  },
  {
   "cell_type": "code",
   "execution_count": 25,
   "id": "6def4197-8d22-473b-8a57-d02ccaef5710",
   "metadata": {},
   "outputs": [
    {
     "name": "stdout",
     "output_type": "stream",
     "text": [
      "[[0. 0. 0. 0. 0.]\n",
      " [0. 0. 0. 0. 0.]\n",
      " [0. 0. 0. 0. 0.]\n",
      " [0. 0. 0. 0. 0.]\n",
      " [0. 0. 0. 0. 0.]]\n",
      "tensor([[0., 0., 0., 0., 0.],\n",
      "        [0., 0., 0., 0., 0.],\n",
      "        [0., 0., 0., 0., 0.],\n",
      "        [0., 0., 0., 0., 0.],\n",
      "        [0., 0., 0., 0., 0.]], dtype=torch.float64)\n",
      "[[0. 0. 0. 0. 0.]\n",
      " [0. 0. 0. 0. 0.]\n",
      " [0. 0. 0. 0. 0.]\n",
      " [0. 0. 0. 0. 0.]\n",
      " [0. 0. 0. 0. 0.]]\n"
     ]
    }
   ],
   "source": [
    "#Array to Tensor conversion\n",
    "import numpy as np\n",
    "np_array = np.zeros((5, 5))\n",
    "print(np_array)\n",
    "tensor = torch.from_numpy(np_array)\n",
    "print(tensor)\n",
    "np_array_back = tensor.numpy()\n",
    "print(np_array_back)"
   ]
  },
  {
   "cell_type": "code",
   "execution_count": 30,
   "id": "34dd4c87-5f2d-46c2-b307-45673141127e",
   "metadata": {},
   "outputs": [
    {
     "name": "stdout",
     "output_type": "stream",
     "text": [
      "tensor([10., 10., 10.])\n",
      "tensor([10, 10, 10])\n",
      "tensor([-8, -6, -4])\n",
      "tensor([0.1111, 0.2500, 0.4286])\n",
      "tensor([2., 4., 6.])\n",
      "tensor([1, 4, 9])\n",
      "tensor([True, True, True])\n",
      "tensor([[2.1601, 2.2817, 3.4343],\n",
      "        [1.2430, 1.3198, 2.5610]])\n",
      "tensor([[3.3586, 1.7667, 1.2434, 1.3738, 1.7623],\n",
      "        [1.5543, 0.8662, 0.6081, 0.6353, 0.7941],\n",
      "        [3.0568, 1.5117, 1.1704, 1.3805, 1.6699],\n",
      "        [2.8419, 1.5403, 1.1007, 1.2171, 1.4453],\n",
      "        [3.3845, 1.7974, 1.3140, 1.4551, 1.8177]])\n",
      "tensor([ 9, 16, 21])\n",
      "tensor(46)\n"
     ]
    }
   ],
   "source": [
    "#Tensor math and Comparison operator\n",
    "x = torch.tensor([1, 2, 3])\n",
    "y = torch.tensor([9, 8, 7])\n",
    "\n",
    "#Addition\n",
    "z1 = torch.empty(3)\n",
    "torch.add(x, y, out = z1)\n",
    "print(z1)\n",
    "\n",
    "z2 = torch.add(x, y)\n",
    "\n",
    "z = x + y\n",
    "print(z)\n",
    "\n",
    "#Subtraction\n",
    "z = x - y\n",
    "print(z)\n",
    "\n",
    "#Division\n",
    "z = torch.true_divide(x, y)\n",
    "print(z)\n",
    "\n",
    "#Inplace operations\n",
    "t = torch.zeros(3)\n",
    "t.add_(x)\n",
    "t += x #t = t + x <-- this creates a copy of t and hence the operation isn't inplace\n",
    "print(t)\n",
    "\n",
    "#Exponentiation\n",
    "z = x.pow(2)\n",
    "z = x ** 2\n",
    "print(z)\n",
    "\n",
    "#Simple comparison\n",
    "z = x > 0\n",
    "print(z)\n",
    "\n",
    "#Matrix multiplication\n",
    "x1 = torch.rand((2, 5))\n",
    "x2 = torch.rand((5, 3))\n",
    "\n",
    "x3 = torch.mm(x1, x2) #shape would be 2 x 3\n",
    "x3 = x1.mm(x2)\n",
    "print(x3)\n",
    "\n",
    "#Matrix exponentiation\n",
    "matrix_exp = torch.rand(5, 5)\n",
    "print(matrix_exp.matrix_power(3))\n",
    "\n",
    "#Element wise multiplication\n",
    "z = x * y\n",
    "print(z)\n",
    "\n",
    "#dot product\n",
    "z = torch.dot(x, y)\n",
    "print(z)\n",
    "\n",
    "#Batch matrix multiplication\n",
    "batch = 32\n",
    "n = 10\n",
    "m = 20\n",
    "p = 30\n",
    "\n",
    "tensor1 = torch.rand((batch, n, m))\n",
    "tensor2 = torch.rand((batch, m, p))\n",
    "\n",
    "out_bmm = torch.bmm(tensor1, tensor2) "
   ]
  },
  {
   "cell_type": "code",
   "execution_count": 7,
   "id": "949e7368-5bf5-4da6-81b8-5b3020cb3029",
   "metadata": {},
   "outputs": [
    {
     "name": "stdout",
     "output_type": "stream",
     "text": [
      "tensor([[-0.4148,  0.6008,  0.0733, -0.1555,  0.1298],\n",
      "        [-0.8209,  0.9005,  0.1169, -0.2229, -0.2370],\n",
      "        [-0.6458,  0.5195, -0.1760,  0.1505, -0.1101],\n",
      "        [-0.6717,  0.9192,  0.1840,  0.0608, -0.3946],\n",
      "        [ 0.0691,  0.9223,  0.1007, -0.3894,  0.2340]])\n",
      "tensor([[0.5064, 0.9723, 0.8502, 0.6977, 0.7826],\n",
      "        [0.0767, 0.9979, 0.8836, 0.6385, 0.4988],\n",
      "        [0.2748, 0.9635, 0.6482, 0.9522, 0.6154],\n",
      "        [0.2473, 0.9993, 0.9342, 0.8797, 0.2732],\n",
      "        [0.9499, 0.9995, 0.8713, 0.4851, 0.8431]])\n"
     ]
    }
   ],
   "source": [
    "#Example of Broadcasting\n",
    "x1 = torch.rand((5, 5))\n",
    "x2 = torch.rand((1, 5))\n",
    "\n",
    "z = x1 - x2\n",
    "print(z)\n",
    "\n",
    "z = x1 ** x2 #the rows adjust themselfs <-- reason why it's called broadcasting\n",
    "print(z)"
   ]
  },
  {
   "cell_type": "code",
   "execution_count": 12,
   "id": "e4167711-df4b-4ad8-a959-c0a5a61adcd4",
   "metadata": {},
   "outputs": [],
   "source": [
    "#Useful tensor operations\n",
    "sum_x = torch.sum(x, dim=0)\n",
    "values, indices = torch.max(x, dim=0)\n",
    "values, indices = torch.min(x, dim=0)\n",
    "abs_x = torch.abs(x)\n",
    "z = torch.argmax(x, dim=0)\n",
    "z = torch.argmin(x, dim=0)\n",
    "mean_x = torch.mean(x.float(), dim=0)\n",
    "z = torch.eq(x, y)\n",
    "sorted_y, indices = torch.sort(y, dim=0, descending=False)\n",
    "\n",
    "z = torch.clamp(x, min=0, max=10) #sets any value below 0 to be 0, and any value above 10 to be 10\n",
    "\n",
    "x = torch.tensor([1, 0, 1, 1], dtype = torch.bool)\n",
    "z = torch.any(x) #this is true for all\n",
    "z = torch.all(x) #for this to be true, all values in the tensor should be 1"
   ]
  },
  {
   "cell_type": "code",
   "execution_count": null,
   "id": "2c36040a-ca05-4c05-ae32-1145a1e813c2",
   "metadata": {},
   "outputs": [],
   "source": [
    "#Tensor Indexing\n"
   ]
  }
 ],
 "metadata": {
  "kernelspec": {
   "display_name": "Python 3 (ipykernel)",
   "language": "python",
   "name": "python3"
  },
  "language_info": {
   "codemirror_mode": {
    "name": "ipython",
    "version": 3
   },
   "file_extension": ".py",
   "mimetype": "text/x-python",
   "name": "python",
   "nbconvert_exporter": "python",
   "pygments_lexer": "ipython3",
   "version": "3.11.11"
  }
 },
 "nbformat": 4,
 "nbformat_minor": 5
}
