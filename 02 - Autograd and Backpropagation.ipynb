{
 "cells": [
  {
   "cell_type": "code",
   "execution_count": null,
   "id": "a1e86a37-cf14-4e6b-b028-15ab0d8fce3a",
   "metadata": {},
   "outputs": [],
   "source": []
  }
 ],
 "metadata": {
  "kernelspec": {
   "display_name": "",
   "name": ""
  },
  "language_info": {
   "name": ""
  }
 },
 "nbformat": 4,
 "nbformat_minor": 5
}
