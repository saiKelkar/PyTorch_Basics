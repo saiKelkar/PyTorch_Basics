{
 "cells": [
  {
   "cell_type": "code",
   "execution_count": null,
   "id": "58cb0466-b85e-48bb-933a-e2ce24d26821",
   "metadata": {},
   "outputs": [],
   "source": [
    "\"\"\"\n",
    "Agent:\n",
    "\n",
    "Agent <-- AI model capable of reasoning, planning, and interacting with its environment.\n",
    "- Has agency (ability to interact with the environment)\n",
    "\n",
    "(formal definition)\n",
    "a system that leverages an AI model to interact with its environment in order to achieve a user-defined objective.\n",
    "It combines reasoning, planning, and the execution of actions (often via external tools) to fulfill tasks.\n",
    "\n",
    "Agent has 2 parts:\n",
    "- the brain (AI model) <-- AI model handles reasoning and planning\n",
    "    - it decides which Actions to take based on the situation\n",
    "    - most common AI model found is LLM (Large Language Model), takes Text as input and outputs Text\n",
    "    example -- OpenAI, LLama\n",
    "    - LLMs can create images using additional functionality called Tools\n",
    "    - Agent can perform any task via Tools to complete Actions\n",
    "    - Design of Tool has a great impact on the quality of Agent\n",
    "\n",
    "- the body (capabilities and tools) <-- it represents everything the Agent is equipped to do\n",
    "    - scope of possible actions -- what the agent has been equipped with\n",
    "    - example -- humans lack wings, they can't perform the \"fly\" Action, but can execute Actions like \"walk\", \"run\", \"jump\", \"grab\", and so on\n",
    "\n",
    "Summary:\n",
    "Agent uses AI model (typically an LLM) as its core reasoning engine to\n",
    "    - Understand natural language (interpret and respond to human instructions in a meaningful way)\n",
    "    - Reason and plan (analyze information, make decisions, and devise strategies to solve problems)\n",
    "    - Interact with its environment (gather information, take actions, and observe the results of those actions)\n",
    "\n",
    "\"\"\""
   ]
  }
 ],
 "metadata": {
  "kernelspec": {
   "display_name": "Python 3 (ipykernel)",
   "language": "python",
   "name": "python3"
  },
  "language_info": {
   "codemirror_mode": {
    "name": "ipython",
    "version": 3
   },
   "file_extension": ".py",
   "mimetype": "text/x-python",
   "name": "python",
   "nbconvert_exporter": "python",
   "pygments_lexer": "ipython3",
   "version": "3.11.11"
  }
 },
 "nbformat": 4,
 "nbformat_minor": 5
}
