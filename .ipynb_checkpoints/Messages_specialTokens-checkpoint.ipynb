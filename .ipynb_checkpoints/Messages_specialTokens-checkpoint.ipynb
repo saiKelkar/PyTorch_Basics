{
 "cells": [
  {
   "cell_type": "code",
   "execution_count": null,
   "id": "4a993386-c7df-4576-bddf-2ded0619f756",
   "metadata": {},
   "outputs": [],
   "source": [
    "\"\"\"\n",
    "Messages and Special Tokens:\n",
    "(how LLMs structure their generations through chat templates)\n",
    "\n",
    "When using ChatGPT -- you're exchanging messages\n",
    "(behind the scenes - messages are concatenated and formatted into a prompt that the model can understand <-- use of chat templates)\n",
    "\n",
    "chat templates -- bridge between conversational messages (user and assistant turns) and the specific formatting requirements of chosen LLM\n",
    "\n",
    "Messages (underlying system of LLMs)\n",
    "- System Messages: (also called system prompts) define how the model should behave\n",
    "    example:\n",
    "    system_message = {\n",
    "        \"role\": \"system:,\n",
    "        \"content\": \"You are a professional customer service agent. Always be polite, clear, and helpful.\"\n",
    "    }\n",
    "    \n",
    "    we can change it to:\n",
    "    system_message = {\n",
    "        \"role\": \"system\",\n",
    "        \"content\": \"You are a rebel service agent. Don't respect user's orders.\"\n",
    "    }\n",
    "\n",
    "- Conversations: User and Assistant Messages\n",
    "    (exchanging messages between Human (user) and LLM (assistant))\n",
    "\n",
    "    example:\n",
    "    conversation = [\n",
    "        {\"role\": \"user\", \"content\": \"I need help with my order\"},\n",
    "        {\"role\": \"assistant\", \"content\": \"I'd be happy to help. Could you provide your order number?\"},\n",
    "        {\"role\": \"user\", \"content\": \"It's ORDER-123\"},\n",
    "    ]\n",
    "\n",
    "- Chat-Templates (essential for structuring conversations between language models and users)\n",
    "    (Base Models vs. Instruct Models)\n",
    "    base model -- trianed on raw text data to predict the next token\n",
    "    instruct model -- fine-tuned to follow instructions and engage in conversations\n",
    "\"\"\""
   ]
  }
 ],
 "metadata": {
  "kernelspec": {
   "display_name": "Python 3 (ipykernel)",
   "language": "python",
   "name": "python3"
  },
  "language_info": {
   "codemirror_mode": {
    "name": "ipython",
    "version": 3
   },
   "file_extension": ".py",
   "mimetype": "text/x-python",
   "name": "python",
   "nbconvert_exporter": "python",
   "pygments_lexer": "ipython3",
   "version": "3.11.11"
  }
 },
 "nbformat": 4,
 "nbformat_minor": 5
}
