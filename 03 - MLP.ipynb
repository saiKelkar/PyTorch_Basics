{
 "cells": [
  {
   "cell_type": "code",
   "execution_count": null,
   "id": "4eeaf6bc-9f43-49f4-8aac-4a39c6e67b58",
   "metadata": {},
   "outputs": [],
   "source": []
  }
 ],
 "metadata": {
  "kernelspec": {
   "display_name": "",
   "name": ""
  },
  "language_info": {
   "name": ""
  }
 },
 "nbformat": 4,
 "nbformat_minor": 5
}
